{
 "cells": [
  {
   "cell_type": "code",
   "execution_count": 1,
   "id": "9d9c57f9",
   "metadata": {},
   "outputs": [
    {
     "data": {
      "text/plain": [
       "'/mnt/ai-storage/personal/pradip/st-ultralytics/notebooks'"
      ]
     },
     "execution_count": 1,
     "metadata": {},
     "output_type": "execute_result"
    }
   ],
   "source": [
    "import os\n",
    "os.getcwd()"
   ]
  },
  {
   "cell_type": "code",
   "execution_count": 2,
   "id": "dcf1fe8a",
   "metadata": {},
   "outputs": [
    {
     "data": {
      "text/plain": [
       "'/mnt/ai-storage/personal/pradip/st-ultralytics'"
      ]
     },
     "execution_count": 2,
     "metadata": {},
     "output_type": "execute_result"
    }
   ],
   "source": [
    "os.chdir(\"..\")\n",
    "os.getcwd()"
   ]
  },
  {
   "cell_type": "markdown",
   "id": "78a169e4",
   "metadata": {},
   "source": [
    "# Experiment"
   ]
  },
  {
   "cell_type": "code",
   "execution_count": 34,
   "id": "5c8ed903",
   "metadata": {},
   "outputs": [],
   "source": [
    "import os.path as osp\n",
    "import argparse\n",
    "import cv2\n",
    "import pickle\n",
    "from pathlib import Path\n",
    "from typing import Optional, Union\n",
    "from loguru import logger\n",
    "from tqdm import tqdm\n",
    "import matplotlib.pyplot as plt\n",
    "\n",
    "import torch\n",
    "from ultralytics.utils.files import increment_path\n",
    "from ultralytics import YOLO"
   ]
  },
  {
   "cell_type": "code",
   "execution_count": 10,
   "id": "e82f2d17",
   "metadata": {},
   "outputs": [],
   "source": [
    "from sahi import AutoDetectionModel\n",
    "from sahi.predict import get_sliced_prediction\n",
    "from sahi.utils.yolov8 import download_yolov8s_model"
   ]
  },
  {
   "cell_type": "code",
   "execution_count": 11,
   "id": "e953d232",
   "metadata": {},
   "outputs": [],
   "source": [
    "from st_commons.data.data_loader import VideoIterator\n",
    "from st_commons.tools.general import prepare_cfg"
   ]
  },
  {
   "cell_type": "code",
   "execution_count": 12,
   "id": "1c2080d0",
   "metadata": {},
   "outputs": [
    {
     "data": {
      "text/plain": [
       "True"
      ]
     },
     "execution_count": 12,
     "metadata": {},
     "output_type": "execute_result"
    }
   ],
   "source": [
    "# Raw Data for this task is kept at /mnt/ai-storage/project/adidas/data/raw_4k/AIC_2182_P2/\n",
    "root_path = \"/mnt/ai-storage/jira/imtec356\"\n",
    "os.path.exists(root_path)"
   ]
  },
  {
   "cell_type": "code",
   "execution_count": 13,
   "id": "82cc6941",
   "metadata": {},
   "outputs": [],
   "source": [
    "selected_clip = 'ma25fad386_5100_5160'"
   ]
  },
  {
   "cell_type": "code",
   "execution_count": 14,
   "id": "39d070c8",
   "metadata": {},
   "outputs": [
    {
     "data": {
      "text/plain": [
       "'/mnt/ai-storage/jira/imtec356/ma25fad386_5100_5160/pano.mp4'"
      ]
     },
     "execution_count": 14,
     "metadata": {},
     "output_type": "execute_result"
    }
   ],
   "source": [
    "video_path = os.path.join(root_path, \n",
    "                                selected_clip,\n",
    "                               'pano.mp4')\n",
    "video_path"
   ]
  },
  {
   "cell_type": "code",
   "execution_count": 15,
   "id": "7b1ae573",
   "metadata": {},
   "outputs": [],
   "source": [
    "court_mask_path = '/mnt/ai-storage/jira/imtec356/ma25fad386_5100_5160/pano_mask.png'"
   ]
  },
  {
   "cell_type": "code",
   "execution_count": 16,
   "id": "dac42f6a",
   "metadata": {},
   "outputs": [
    {
     "name": "stdout",
     "output_type": "stream",
     "text": [
      "total frames from pano video: 1498.0\n"
     ]
    }
   ],
   "source": [
    "cap = cv2.VideoCapture(video_path)\n",
    "print(f\"total frames from pano video: {cap.get(cv2.CAP_PROP_FRAME_COUNT)}\")"
   ]
  },
  {
   "cell_type": "code",
   "execution_count": 17,
   "id": "a62cf812",
   "metadata": {},
   "outputs": [],
   "source": [
    "model_path = \"/mnt/ai-storage/jira/imtec356/models/20231231_yolov8x-albumentations.pt\""
   ]
  },
  {
   "cell_type": "code",
   "execution_count": null,
   "id": "9567d76c",
   "metadata": {},
   "outputs": [],
   "source": [
    "# download_yolov8s_model(model_path)"
   ]
  },
  {
   "cell_type": "code",
   "execution_count": 18,
   "id": "7eca833d",
   "metadata": {},
   "outputs": [],
   "source": [
    "# Check source video\n",
    "if not Path(video_path).is_file():\n",
    "    raise FileNotFoundError(f\"Source video at '{video_path}' not found.\")"
   ]
  },
  {
   "cell_type": "code",
   "execution_count": 21,
   "id": "1da596d2",
   "metadata": {},
   "outputs": [
    {
     "data": {
      "text/plain": [
       "{'yolov8': {'confidence_threshold': 0.3, 'model_path': '/path/to/yolov8/weights'}, 'sahi': {'model_path': '/path/to/yolov8/weights', 'slice_height': 512, 'slice_width': 512, 'overlap_height_ratio': 0.2, 'overlap_width_ratio': 0.2, 'confidence_threshold': 0.3}}"
      ]
     },
     "execution_count": 21,
     "metadata": {},
     "output_type": "execute_result"
    }
   ],
   "source": [
    "# Read config\n",
    "config = prepare_cfg(base_cfg_path=\"st_ultralytics/conf/conf.yaml\")   \n",
    "config"
   ]
  },
  {
   "cell_type": "code",
   "execution_count": 22,
   "id": "ed93b494",
   "metadata": {},
   "outputs": [],
   "source": [
    "# Check model path\n",
    "if model_path is None:\n",
    "    if sahi_inference:\n",
    "        model_path = config.sahi.model_path\n",
    "    else:\n",
    "        if model_type == \"yolov8\":               \n",
    "            model_path = config.yolov8.model_path"
   ]
  },
  {
   "cell_type": "code",
   "execution_count": 30,
   "id": "fcc2713d",
   "metadata": {},
   "outputs": [
    {
     "data": {
      "text/plain": [
       "PosixPath('/mnt/ai-storage/jira/imtec356/ma25fad386_5100_5160/detection_results')"
      ]
     },
     "execution_count": 30,
     "metadata": {},
     "output_type": "execute_result"
    }
   ],
   "source": [
    "out_dir = None\n",
    "sahi_inference = False\n",
    "\n",
    "# Output setup\n",
    "if out_dir is None:\n",
    "    if sahi_inference: exp_name = 'sahi_detection_results'\n",
    "    else: exp_name = 'detection_results'        \n",
    "    out_dir = increment_path(Path(video_path).parent / exp_name, exist_ok=True)\n",
    "    out_dir.mkdir(parents=True, exist_ok=True)\n",
    "    \n",
    "out_dir"
   ]
  },
  {
   "cell_type": "code",
   "execution_count": 31,
   "id": "dd89addb",
   "metadata": {},
   "outputs": [
    {
     "data": {
      "text/plain": [
       "PosixPath('/mnt/ai-storage/jira/imtec356/ma25fad386_5100_5160/detection_results/pano.bbox')"
      ]
     },
     "execution_count": 31,
     "metadata": {},
     "output_type": "execute_result"
    }
   ],
   "source": [
    "out_path = None\n",
    "\n",
    "if out_path is None:\n",
    "    out_path = increment_path(out_dir / (Path(video_path).stem+\".bbox\"), exist_ok=True)\n",
    "else:\n",
    "    assert out_path.endswith(\".bbox\"), f\"out_path must end with .bbox, got {out_path}\"\n",
    "\n",
    "out_path"
   ]
  },
  {
   "cell_type": "code",
   "execution_count": 32,
   "id": "0edc2731",
   "metadata": {},
   "outputs": [
    {
     "name": "stderr",
     "output_type": "stream",
     "text": [
      "\u001b[32m2024-03-15 02:09:35.619\u001b[0m | \u001b[1mINFO    \u001b[0m | \u001b[36m__main__\u001b[0m:\u001b[36m<module>\u001b[0m:\u001b[36m5\u001b[0m - \u001b[1mUse court mask: /mnt/ai-storage/jira/imtec356/ma25fad386_5100_5160/pano_mask.png\u001b[0m\n"
     ]
    }
   ],
   "source": [
    "# Check court mask path\n",
    "use_court_mask = court_mask_path is not None\n",
    "if use_court_mask:\n",
    "    assert osp.exists(court_mask_path), f\"Cannot find court mask at {court_mask_path}\"\n",
    "    logger.info(f\"Use court mask: {court_mask_path}\")\n",
    "    court_mask = cv2.imread(court_mask_path)"
   ]
  },
  {
   "cell_type": "code",
   "execution_count": 35,
   "id": "8f1dedaa",
   "metadata": {},
   "outputs": [
    {
     "data": {
      "text/plain": [
       "<matplotlib.image.AxesImage at 0x7f2ba44b3ac0>"
      ]
     },
     "execution_count": 35,
     "metadata": {},
     "output_type": "execute_result"
    },
    {
     "data": {
      "image/png": "[encoded data removed]",
      "text/plain": [
       "<Figure size 2000x1000 with 1 Axes>"
      ]
     },
     "metadata": {},
     "output_type": "display_data"
    }
   ],
   "source": [
    "plt.figure(figsize=(20,10))\n",
    "plt.imshow(court_mask)"
   ]
  },
  {
   "cell_type": "code",
   "execution_count": 36,
   "id": "f6aaaa49",
   "metadata": {},
   "outputs": [],
   "source": [
    "video = VideoIterator(video_path)\n",
    "video_basename = Path(video_path).stem\n",
    "video_writer = None"
   ]
  },
  {
   "cell_type": "code",
   "execution_count": 37,
   "id": "f6c22637",
   "metadata": {},
   "outputs": [],
   "source": [
    "model = YOLO(model_path)"
   ]
  },
  {
   "cell_type": "code",
   "execution_count": null,
   "id": "ba952631",
   "metadata": {},
   "outputs": [],
   "source": [
    "# Detect objects from classes 0 and 32 only\n",
    "# classes = [0, 32]\n",
    "# model.overrides[\"classes\"] = classes"
   ]
  },
  {
   "cell_type": "code",
   "execution_count": 38,
   "id": "2dcdf86c",
   "metadata": {},
   "outputs": [],
   "source": [
    "if sahi_inference:\n",
    "    logger.info(f\"Sahi based inferencing is enabled\")\n",
    "    model = AutoDetectionModel.from_pretrained(\n",
    "        model_type=model_type,\n",
    "        model=model,\n",
    "        confidence_threshold=config.sahi.confidence_threshold,\n",
    "        device=\"cuda:0\" if torch.cuda.is_available() else \"cpu\",\n",
    "    )"
   ]
  },
  {
   "cell_type": "code",
   "execution_count": null,
   "id": "6294fc2a",
   "metadata": {},
   "outputs": [],
   "source": [
    "# Output setup\n",
    "# save_dir = increment_path(Path(v).parent / \"results_sahi\" / \"exp\", True)\n",
    "# save_dir"
   ]
  },
  {
   "cell_type": "code",
   "execution_count": null,
   "id": "ecdc1bfc",
   "metadata": {},
   "outputs": [],
   "source": [
    "# save_dir.mkdir(parents=True, exist_ok=True)"
   ]
  },
  {
   "cell_type": "code",
   "execution_count": null,
   "id": "68e6ae8a",
   "metadata": {},
   "outputs": [],
   "source": [
    "# image_files = list(Path(image_source).rglob(\"*.[jp][pn]g\"))\n",
    "\n",
    "# if not image_files:\n",
    "#     raise FileNotFoundError(f\"No image files found in: {image_source}\")"
   ]
  },
  {
   "cell_type": "code",
   "execution_count": null,
   "id": "33539df5",
   "metadata": {},
   "outputs": [],
   "source": [
    "player_detections = {}\n",
    "ball_detections = {}"
   ]
  },
  {
   "cell_type": "code",
   "execution_count": null,
   "id": "c75a1a34",
   "metadata": {},
   "outputs": [],
   "source": [
    "img_path = image_files[0]\n",
    "img_path"
   ]
  },
  {
   "cell_type": "code",
   "execution_count": null,
   "id": "d28bf172",
   "metadata": {},
   "outputs": [],
   "source": [
    "results = get_sliced_prediction(\n",
    "    str(img_path),\n",
    "    detection_model,\n",
    "    slice_height=512,\n",
    "    slice_width=512,\n",
    "    overlap_height_ratio=0.2,\n",
    "    overlap_width_ratio=0.2,\n",
    ")"
   ]
  },
  {
   "cell_type": "code",
   "execution_count": null,
   "id": "4c753e7d",
   "metadata": {},
   "outputs": [],
   "source": [
    "results.export_visuals(export_dir=\"sahi_sample/\",\n",
    "                    text_size=5,\n",
    "                    rect_th=None,\n",
    "                    hide_labels=True,\n",
    "                    hide_conf=True,\n",
    "                    file_name=\"custom_yolov8_prediction_visual\",)\n",
    "# Image(\"sahi_sample/prediction_visual.png\")"
   ]
  },
  {
   "cell_type": "code",
   "execution_count": null,
   "id": "82a08a38",
   "metadata": {},
   "outputs": [],
   "source": [
    "visual = cv2.imread(\"sahi_sample/custom_yolov8_prediction_visual.png\")\n",
    "visual = cv2.cvtColor(visual, cv2.COLOR_BGR2RGB)\n",
    "\n",
    "plt.figure(figsize=(20,10))\n",
    "plt.imshow(visual)"
   ]
  },
  {
   "cell_type": "code",
   "execution_count": null,
   "id": "116516a0",
   "metadata": {},
   "outputs": [],
   "source": [
    "frame_number = img_path.stem\n",
    "frame_number"
   ]
  },
  {
   "cell_type": "code",
   "execution_count": null,
   "id": "0b25d965",
   "metadata": {},
   "outputs": [],
   "source": [
    "# !pip install -U imantics"
   ]
  },
  {
   "cell_type": "code",
   "execution_count": null,
   "id": "68b88ea4",
   "metadata": {},
   "outputs": [],
   "source": [
    "player_frame_detections = {}\n",
    "ball_frame_detections = {}\n",
    "\n",
    "for bboxid, detection in enumerate(results.object_prediction_list):\n",
    "    if detection.category.name == 'player':\n",
    "        player_frame_detections[bboxid] = {\n",
    "                                            'bbox': [int(v) for v in detection.bbox.to_xyxy()],\n",
    "                                            'score': round(detection.score.value, 5)\n",
    "                                          }\n",
    "    else:\n",
    "        ball_frame_detections[bboxid] = {\n",
    "                                            'bbox': [int(v) for v in detection.bbox.to_xyxy()],\n",
    "                                            'score': round(detection.score.value, 5)\n",
    "                                        }"
   ]
  },
  {
   "cell_type": "code",
   "execution_count": null,
   "id": "e0fabd6a",
   "metadata": {},
   "outputs": [],
   "source": [
    "player_detections[frame_number] = player_frame_detections\n",
    "ball_detections[frame_number] = ball_frame_detections"
   ]
  },
  {
   "cell_type": "code",
   "execution_count": null,
   "id": "ef8a7ec3",
   "metadata": {},
   "outputs": [],
   "source": [
    "debug = True"
   ]
  },
  {
   "cell_type": "code",
   "execution_count": null,
   "id": "6fa16a6c",
   "metadata": {},
   "outputs": [],
   "source": [
    "frame_path"
   ]
  },
  {
   "cell_type": "code",
   "execution_count": null,
   "id": "517de20b",
   "metadata": {},
   "outputs": [],
   "source": [
    "output_dict = {\n",
    "    \"players\": {},\n",
    "    \"ball\": {},\n",
    "    \"debug\": {\n",
    "        \"fps\": fps,\n",
    "        \"image_h\": height,\n",
    "        \"image_w\": width,\n",
    "        \"model_name\": args.model\n",
    "    }\n",
    "}\n"
   ]
  },
  {
   "cell_type": "markdown",
   "id": "4628cc9c",
   "metadata": {},
   "source": [
    "# Test function"
   ]
  },
  {
   "cell_type": "code",
   "execution_count": 3,
   "id": "e466e3ae",
   "metadata": {},
   "outputs": [
    {
     "data": {
      "text/plain": [
       "'/mnt/ai-storage/personal/pradip/st-ultralytics'"
      ]
     },
     "execution_count": 3,
     "metadata": {},
     "output_type": "execute_result"
    }
   ],
   "source": [
    "import os\n",
    "os.getcwd()"
   ]
  },
  {
   "cell_type": "code",
   "execution_count": 4,
   "id": "d5ea9203",
   "metadata": {},
   "outputs": [],
   "source": [
    "from scripts.inference_sahi import detect_bboxes_from_video"
   ]
  },
  {
   "cell_type": "code",
   "execution_count": 5,
   "id": "9039f6ec",
   "metadata": {},
   "outputs": [],
   "source": [
    "model_path = 'scripts/models/20231231_yolov8x-albumentations.pt'"
   ]
  },
  {
   "cell_type": "code",
   "execution_count": 6,
   "id": "408da29a",
   "metadata": {},
   "outputs": [],
   "source": [
    "video_path = '/mnt/ai-storage/jira/imtec356/ma25fad386_5100_5160/pano.mp4'"
   ]
  },
  {
   "cell_type": "code",
   "execution_count": 7,
   "id": "a0602adc",
   "metadata": {},
   "outputs": [],
   "source": [
    "court_mask_path = '/mnt/ai-storage/jira/imtec356/ma25fad386_5100_5160/pano_mask.png'"
   ]
  },
  {
   "cell_type": "code",
   "execution_count": 8,
   "id": "0c793a1d",
   "metadata": {},
   "outputs": [
    {
     "name": "stderr",
     "output_type": "stream",
     "text": [
      "\u001b[32m2024-03-13 10:31:25.287\u001b[0m | \u001b[1mINFO    \u001b[0m | \u001b[36mscripts.inference_sahi\u001b[0m:\u001b[36mdetect_bboxes_from_video\u001b[0m:\u001b[36m148\u001b[0m - \u001b[1mout_dir is: /mnt/ai-storage/jira/imtec356/ma25fad386_5100_5160/sahi_detection_results\u001b[0m\n",
      "\u001b[32m2024-03-13 10:31:25.288\u001b[0m | \u001b[1mINFO    \u001b[0m | \u001b[36mscripts.inference_sahi\u001b[0m:\u001b[36mdetect_bboxes_from_video\u001b[0m:\u001b[36m154\u001b[0m - \u001b[1mout_path is: /mnt/ai-storage/jira/imtec356/ma25fad386_5100_5160/sahi_detection_results/pano.bbox\u001b[0m\n",
      "\u001b[32m2024-03-13 10:31:25.290\u001b[0m | \u001b[1mINFO    \u001b[0m | \u001b[36mscripts.inference_sahi\u001b[0m:\u001b[36mdetect_bboxes_from_video\u001b[0m:\u001b[36m160\u001b[0m - \u001b[1mUse court mask: /mnt/ai-storage/jira/imtec356/ma25fad386_5100_5160/pano_mask.png\u001b[0m\n",
      "Player Detection for pano - 0  to 100: 0it [00:00, ?it/s]"
     ]
    },
    {
     "name": "stdout",
     "output_type": "stream",
     "text": [
      "Performing prediction on 20 number of slices.\n"
     ]
    },
    {
     "name": "stderr",
     "output_type": "stream",
     "text": [
      "/mnt/ai-storage/pradip/miniconda3/envs/yolov5/lib/python3.8/site-packages/st_commons/data/data_loader.py:35: UserWarning: Use image_width instead, image_w deprecated since v 0.0.5\n",
      "  warnings.warn(\"Use image_width instead, image_w deprecated since v 0.0.5\")\n",
      "/mnt/ai-storage/pradip/miniconda3/envs/yolov5/lib/python3.8/site-packages/st_commons/data/data_loader.py:40: UserWarning: Use image_height instead, image_h deprecated since v 0.0.5\n",
      "  warnings.warn(\"Use image_height instead, image_h deprecated since v 0.0.5\")\n",
      "Player Detection for pano - 0  to 100: 1it [00:07,  7.15s/it]"
     ]
    },
    {
     "name": "stdout",
     "output_type": "stream",
     "text": [
      "Dumping final image to disk\n",
      "Performing prediction on 20 number of slices.\n"
     ]
    },
    {
     "name": "stderr",
     "output_type": "stream",
     "text": [
      "Player Detection for pano - 0  to 100: 2it [00:12,  6.09s/it]"
     ]
    },
    {
     "name": "stdout",
     "output_type": "stream",
     "text": [
      "Dumping final image to disk\n",
      "Performing prediction on 20 number of slices.\n"
     ]
    },
    {
     "name": "stderr",
     "output_type": "stream",
     "text": [
      "Player Detection for pano - 0  to 100: 3it [00:17,  5.70s/it]"
     ]
    },
    {
     "name": "stdout",
     "output_type": "stream",
     "text": [
      "Dumping final image to disk\n",
      "Performing prediction on 20 number of slices.\n"
     ]
    },
    {
     "name": "stderr",
     "output_type": "stream",
     "text": [
      "Player Detection for pano - 0  to 100: 4it [00:23,  5.54s/it]"
     ]
    },
    {
     "name": "stdout",
     "output_type": "stream",
     "text": [
      "Dumping final image to disk\n",
      "Performing prediction on 20 number of slices.\n"
     ]
    },
    {
     "name": "stderr",
     "output_type": "stream",
     "text": [
      "Player Detection for pano - 0  to 100: 5it [00:28,  5.44s/it]"
     ]
    },
    {
     "name": "stdout",
     "output_type": "stream",
     "text": [
      "Dumping final image to disk\n",
      "Performing prediction on 20 number of slices.\n"
     ]
    },
    {
     "name": "stderr",
     "output_type": "stream",
     "text": [
      "Player Detection for pano - 0  to 100: 6it [00:33,  5.38s/it]"
     ]
    },
    {
     "name": "stdout",
     "output_type": "stream",
     "text": [
      "Dumping final image to disk\n",
      "Performing prediction on 20 number of slices.\n"
     ]
    },
    {
     "name": "stderr",
     "output_type": "stream",
     "text": [
      "Player Detection for pano - 0  to 100: 7it [00:38,  5.35s/it]"
     ]
    },
    {
     "name": "stdout",
     "output_type": "stream",
     "text": [
      "Dumping final image to disk\n",
      "Performing prediction on 20 number of slices.\n"
     ]
    },
    {
     "name": "stderr",
     "output_type": "stream",
     "text": [
      "Player Detection for pano - 0  to 100: 8it [00:44,  5.34s/it]"
     ]
    },
    {
     "name": "stdout",
     "output_type": "stream",
     "text": [
      "Dumping final image to disk\n",
      "Performing prediction on 20 number of slices.\n"
     ]
    },
    {
     "name": "stderr",
     "output_type": "stream",
     "text": [
      "Player Detection for pano - 0  to 100: 9it [00:49,  5.33s/it]"
     ]
    },
    {
     "name": "stdout",
     "output_type": "stream",
     "text": [
      "Dumping final image to disk\n",
      "Performing prediction on 20 number of slices.\n"
     ]
    },
    {
     "name": "stderr",
     "output_type": "stream",
     "text": [
      "Player Detection for pano - 0  to 100: 10it [00:54,  5.32s/it]"
     ]
    },
    {
     "name": "stdout",
     "output_type": "stream",
     "text": [
      "Dumping final image to disk\n",
      "Performing prediction on 20 number of slices.\n"
     ]
    },
    {
     "name": "stderr",
     "output_type": "stream",
     "text": [
      "Player Detection for pano - 0  to 100: 11it [01:00,  5.31s/it]"
     ]
    },
    {
     "name": "stdout",
     "output_type": "stream",
     "text": [
      "Dumping final image to disk\n",
      "Performing prediction on 20 number of slices.\n"
     ]
    },
    {
     "name": "stderr",
     "output_type": "stream",
     "text": [
      "Player Detection for pano - 0  to 100: 12it [01:05,  5.31s/it]"
     ]
    },
    {
     "name": "stdout",
     "output_type": "stream",
     "text": [
      "Dumping final image to disk\n",
      "Performing prediction on 20 number of slices.\n"
     ]
    },
    {
     "name": "stderr",
     "output_type": "stream",
     "text": [
      "Player Detection for pano - 0  to 100: 13it [01:10,  5.30s/it]"
     ]
    },
    {
     "name": "stdout",
     "output_type": "stream",
     "text": [
      "Dumping final image to disk\n",
      "Performing prediction on 20 number of slices.\n"
     ]
    },
    {
     "name": "stderr",
     "output_type": "stream",
     "text": [
      "Player Detection for pano - 0  to 100: 14it [01:15,  5.30s/it]"
     ]
    },
    {
     "name": "stdout",
     "output_type": "stream",
     "text": [
      "Dumping final image to disk\n",
      "Performing prediction on 20 number of slices.\n"
     ]
    },
    {
     "name": "stderr",
     "output_type": "stream",
     "text": [
      "Player Detection for pano - 0  to 100: 15it [01:21,  5.30s/it]"
     ]
    },
    {
     "name": "stdout",
     "output_type": "stream",
     "text": [
      "Dumping final image to disk\n",
      "Performing prediction on 20 number of slices.\n"
     ]
    },
    {
     "name": "stderr",
     "output_type": "stream",
     "text": [
      "Player Detection for pano - 0  to 100: 16it [01:26,  5.30s/it]"
     ]
    },
    {
     "name": "stdout",
     "output_type": "stream",
     "text": [
      "Dumping final image to disk\n",
      "Performing prediction on 20 number of slices.\n"
     ]
    },
    {
     "name": "stderr",
     "output_type": "stream",
     "text": [
      "Player Detection for pano - 0  to 100: 17it [01:31,  5.31s/it]"
     ]
    },
    {
     "name": "stdout",
     "output_type": "stream",
     "text": [
      "Dumping final image to disk\n",
      "Performing prediction on 20 number of slices.\n"
     ]
    },
    {
     "name": "stderr",
     "output_type": "stream",
     "text": [
      "Player Detection for pano - 0  to 100: 18it [01:37,  5.54s/it]"
     ]
    },
    {
     "name": "stdout",
     "output_type": "stream",
     "text": [
      "Dumping final image to disk\n",
      "Performing prediction on 20 number of slices.\n"
     ]
    },
    {
     "name": "stderr",
     "output_type": "stream",
     "text": [
      "Player Detection for pano - 0  to 100: 19it [01:45,  6.24s/it]"
     ]
    },
    {
     "name": "stdout",
     "output_type": "stream",
     "text": [
      "Dumping final image to disk\n",
      "Performing prediction on 20 number of slices.\n"
     ]
    },
    {
     "name": "stderr",
     "output_type": "stream",
     "text": [
      "Player Detection for pano - 0  to 100: 20it [01:53,  6.58s/it]"
     ]
    },
    {
     "name": "stdout",
     "output_type": "stream",
     "text": [
      "Dumping final image to disk\n",
      "Performing prediction on 20 number of slices.\n"
     ]
    },
    {
     "name": "stderr",
     "output_type": "stream",
     "text": [
      "Player Detection for pano - 0  to 100: 21it [01:59,  6.41s/it]"
     ]
    },
    {
     "name": "stdout",
     "output_type": "stream",
     "text": [
      "Dumping final image to disk\n",
      "Performing prediction on 20 number of slices.\n",
      "Dumping final image to disk\n"
     ]
    },
    {
     "name": "stderr",
     "output_type": "stream",
     "text": [
      "Player Detection for pano - 0  to 100: 22it [02:04,  6.16s/it]"
     ]
    },
    {
     "name": "stdout",
     "output_type": "stream",
     "text": [
      "Performing prediction on 20 number of slices.\n"
     ]
    },
    {
     "name": "stderr",
     "output_type": "stream",
     "text": [
      "Player Detection for pano - 0  to 100: 23it [02:10,  5.93s/it]"
     ]
    },
    {
     "name": "stdout",
     "output_type": "stream",
     "text": [
      "Dumping final image to disk\n",
      "Performing prediction on 20 number of slices.\n"
     ]
    },
    {
     "name": "stderr",
     "output_type": "stream",
     "text": [
      "Player Detection for pano - 0  to 100: 24it [02:15,  5.77s/it]"
     ]
    },
    {
     "name": "stdout",
     "output_type": "stream",
     "text": [
      "Dumping final image to disk\n",
      "Performing prediction on 20 number of slices.\n"
     ]
    },
    {
     "name": "stderr",
     "output_type": "stream",
     "text": [
      "Player Detection for pano - 0  to 100: 25it [02:20,  5.66s/it]"
     ]
    },
    {
     "name": "stdout",
     "output_type": "stream",
     "text": [
      "Dumping final image to disk\n",
      "Performing prediction on 20 number of slices.\n"
     ]
    },
    {
     "name": "stderr",
     "output_type": "stream",
     "text": [
      "Player Detection for pano - 0  to 100: 26it [02:26,  5.59s/it]"
     ]
    },
    {
     "name": "stdout",
     "output_type": "stream",
     "text": [
      "Dumping final image to disk\n",
      "Performing prediction on 20 number of slices.\n"
     ]
    },
    {
     "name": "stderr",
     "output_type": "stream",
     "text": [
      "Player Detection for pano - 0  to 100: 27it [02:31,  5.54s/it]"
     ]
    },
    {
     "name": "stdout",
     "output_type": "stream",
     "text": [
      "Dumping final image to disk\n",
      "Performing prediction on 20 number of slices.\n"
     ]
    },
    {
     "name": "stderr",
     "output_type": "stream",
     "text": [
      "Player Detection for pano - 0  to 100: 28it [02:37,  5.52s/it]"
     ]
    },
    {
     "name": "stdout",
     "output_type": "stream",
     "text": [
      "Dumping final image to disk\n",
      "Performing prediction on 20 number of slices.\n"
     ]
    },
    {
     "name": "stderr",
     "output_type": "stream",
     "text": [
      "Player Detection for pano - 0  to 100: 29it [02:42,  5.49s/it]"
     ]
    },
    {
     "name": "stdout",
     "output_type": "stream",
     "text": [
      "Dumping final image to disk\n",
      "Performing prediction on 20 number of slices.\n"
     ]
    },
    {
     "name": "stderr",
     "output_type": "stream",
     "text": [
      "Player Detection for pano - 0  to 100: 30it [02:48,  5.47s/it]"
     ]
    },
    {
     "name": "stdout",
     "output_type": "stream",
     "text": [
      "Dumping final image to disk\n",
      "Performing prediction on 20 number of slices.\n"
     ]
    },
    {
     "name": "stderr",
     "output_type": "stream",
     "text": [
      "Player Detection for pano - 0  to 100: 31it [02:53,  5.45s/it]"
     ]
    },
    {
     "name": "stdout",
     "output_type": "stream",
     "text": [
      "Dumping final image to disk\n",
      "Performing prediction on 20 number of slices.\n"
     ]
    },
    {
     "name": "stderr",
     "output_type": "stream",
     "text": [
      "Player Detection for pano - 0  to 100: 32it [02:58,  5.44s/it]"
     ]
    },
    {
     "name": "stdout",
     "output_type": "stream",
     "text": [
      "Dumping final image to disk\n",
      "Performing prediction on 20 number of slices.\n"
     ]
    },
    {
     "name": "stderr",
     "output_type": "stream",
     "text": [
      "Player Detection for pano - 0  to 100: 33it [03:04,  5.43s/it]"
     ]
    },
    {
     "name": "stdout",
     "output_type": "stream",
     "text": [
      "Dumping final image to disk\n",
      "Performing prediction on 20 number of slices.\n"
     ]
    },
    {
     "name": "stderr",
     "output_type": "stream",
     "text": [
      "Player Detection for pano - 0  to 100: 34it [03:09,  5.42s/it]"
     ]
    },
    {
     "name": "stdout",
     "output_type": "stream",
     "text": [
      "Dumping final image to disk\n",
      "Performing prediction on 20 number of slices.\n"
     ]
    },
    {
     "name": "stderr",
     "output_type": "stream",
     "text": [
      "Player Detection for pano - 0  to 100: 35it [03:15,  5.42s/it]"
     ]
    },
    {
     "name": "stdout",
     "output_type": "stream",
     "text": [
      "Dumping final image to disk\n",
      "Performing prediction on 20 number of slices.\n"
     ]
    },
    {
     "name": "stderr",
     "output_type": "stream",
     "text": [
      "Player Detection for pano - 0  to 100: 36it [03:20,  5.42s/it]"
     ]
    },
    {
     "name": "stdout",
     "output_type": "stream",
     "text": [
      "Dumping final image to disk\n",
      "Performing prediction on 20 number of slices.\n"
     ]
    },
    {
     "name": "stderr",
     "output_type": "stream",
     "text": [
      "Player Detection for pano - 0  to 100: 37it [03:26,  5.42s/it]"
     ]
    },
    {
     "name": "stdout",
     "output_type": "stream",
     "text": [
      "Dumping final image to disk\n",
      "Performing prediction on 20 number of slices.\n"
     ]
    },
    {
     "name": "stderr",
     "output_type": "stream",
     "text": [
      "Player Detection for pano - 0  to 100: 38it [03:31,  5.42s/it]"
     ]
    },
    {
     "name": "stdout",
     "output_type": "stream",
     "text": [
      "Dumping final image to disk\n",
      "Performing prediction on 20 number of slices.\n"
     ]
    },
    {
     "name": "stderr",
     "output_type": "stream",
     "text": [
      "Player Detection for pano - 0  to 100: 39it [03:36,  5.41s/it]"
     ]
    },
    {
     "name": "stdout",
     "output_type": "stream",
     "text": [
      "Dumping final image to disk\n",
      "Performing prediction on 20 number of slices.\n"
     ]
    },
    {
     "name": "stderr",
     "output_type": "stream",
     "text": [
      "Player Detection for pano - 0  to 100: 40it [03:42,  5.42s/it]"
     ]
    },
    {
     "name": "stdout",
     "output_type": "stream",
     "text": [
      "Dumping final image to disk\n",
      "Performing prediction on 20 number of slices.\n"
     ]
    },
    {
     "name": "stderr",
     "output_type": "stream",
     "text": [
      "Player Detection for pano - 0  to 100: 41it [03:47,  5.42s/it]"
     ]
    },
    {
     "name": "stdout",
     "output_type": "stream",
     "text": [
      "Dumping final image to disk\n",
      "Performing prediction on 20 number of slices.\n"
     ]
    },
    {
     "name": "stderr",
     "output_type": "stream",
     "text": [
      "Player Detection for pano - 0  to 100: 42it [03:53,  5.41s/it]"
     ]
    },
    {
     "name": "stdout",
     "output_type": "stream",
     "text": [
      "Dumping final image to disk\n",
      "Performing prediction on 20 number of slices.\n"
     ]
    },
    {
     "name": "stderr",
     "output_type": "stream",
     "text": [
      "Player Detection for pano - 0  to 100: 43it [03:58,  5.41s/it]"
     ]
    },
    {
     "name": "stdout",
     "output_type": "stream",
     "text": [
      "Dumping final image to disk\n",
      "Performing prediction on 20 number of slices.\n"
     ]
    },
    {
     "name": "stderr",
     "output_type": "stream",
     "text": [
      "Player Detection for pano - 0  to 100: 44it [04:03,  5.41s/it]"
     ]
    },
    {
     "name": "stdout",
     "output_type": "stream",
     "text": [
      "Dumping final image to disk\n",
      "Performing prediction on 20 number of slices.\n"
     ]
    },
    {
     "name": "stderr",
     "output_type": "stream",
     "text": [
      "Player Detection for pano - 0  to 100: 45it [04:09,  5.42s/it]"
     ]
    },
    {
     "name": "stdout",
     "output_type": "stream",
     "text": [
      "Dumping final image to disk\n",
      "Performing prediction on 20 number of slices.\n"
     ]
    },
    {
     "name": "stderr",
     "output_type": "stream",
     "text": [
      "Player Detection for pano - 0  to 100: 46it [04:14,  5.41s/it]"
     ]
    },
    {
     "name": "stdout",
     "output_type": "stream",
     "text": [
      "Dumping final image to disk\n",
      "Performing prediction on 20 number of slices.\n"
     ]
    },
    {
     "name": "stderr",
     "output_type": "stream",
     "text": [
      "Player Detection for pano - 0  to 100: 47it [04:20,  5.41s/it]"
     ]
    },
    {
     "name": "stdout",
     "output_type": "stream",
     "text": [
      "Dumping final image to disk\n",
      "Performing prediction on 20 number of slices.\n"
     ]
    },
    {
     "name": "stderr",
     "output_type": "stream",
     "text": [
      "Player Detection for pano - 0  to 100: 48it [04:25,  5.40s/it]"
     ]
    },
    {
     "name": "stdout",
     "output_type": "stream",
     "text": [
      "Dumping final image to disk\n",
      "Performing prediction on 20 number of slices.\n"
     ]
    },
    {
     "name": "stderr",
     "output_type": "stream",
     "text": [
      "Player Detection for pano - 0  to 100: 49it [04:30,  5.40s/it]"
     ]
    },
    {
     "name": "stdout",
     "output_type": "stream",
     "text": [
      "Dumping final image to disk\n",
      "Performing prediction on 20 number of slices.\n"
     ]
    },
    {
     "name": "stderr",
     "output_type": "stream",
     "text": [
      "Player Detection for pano - 0  to 100: 50it [04:36,  5.40s/it]"
     ]
    },
    {
     "name": "stdout",
     "output_type": "stream",
     "text": [
      "Dumping final image to disk\n",
      "Performing prediction on 20 number of slices.\n"
     ]
    },
    {
     "name": "stderr",
     "output_type": "stream",
     "text": [
      "Player Detection for pano - 0  to 100: 51it [04:41,  5.41s/it]"
     ]
    },
    {
     "name": "stdout",
     "output_type": "stream",
     "text": [
      "Dumping final image to disk\n",
      "Performing prediction on 20 number of slices.\n"
     ]
    },
    {
     "name": "stderr",
     "output_type": "stream",
     "text": [
      "Player Detection for pano - 0  to 100: 52it [04:47,  5.40s/it]"
     ]
    },
    {
     "name": "stdout",
     "output_type": "stream",
     "text": [
      "Dumping final image to disk\n",
      "Performing prediction on 20 number of slices.\n"
     ]
    },
    {
     "name": "stderr",
     "output_type": "stream",
     "text": [
      "Player Detection for pano - 0  to 100: 53it [04:52,  5.40s/it]"
     ]
    },
    {
     "name": "stdout",
     "output_type": "stream",
     "text": [
      "Dumping final image to disk\n",
      "Performing prediction on 20 number of slices.\n"
     ]
    },
    {
     "name": "stderr",
     "output_type": "stream",
     "text": [
      "Player Detection for pano - 0  to 100: 54it [04:57,  5.40s/it]"
     ]
    },
    {
     "name": "stdout",
     "output_type": "stream",
     "text": [
      "Dumping final image to disk\n",
      "Performing prediction on 20 number of slices.\n"
     ]
    },
    {
     "name": "stderr",
     "output_type": "stream",
     "text": [
      "Player Detection for pano - 0  to 100: 55it [05:03,  5.40s/it]"
     ]
    },
    {
     "name": "stdout",
     "output_type": "stream",
     "text": [
      "Dumping final image to disk\n",
      "Performing prediction on 20 number of slices.\n"
     ]
    },
    {
     "name": "stderr",
     "output_type": "stream",
     "text": [
      "Player Detection for pano - 0  to 100: 56it [05:08,  5.41s/it]"
     ]
    },
    {
     "name": "stdout",
     "output_type": "stream",
     "text": [
      "Dumping final image to disk\n",
      "Performing prediction on 20 number of slices.\n"
     ]
    },
    {
     "name": "stderr",
     "output_type": "stream",
     "text": [
      "Player Detection for pano - 0  to 100: 57it [05:14,  5.41s/it]"
     ]
    },
    {
     "name": "stdout",
     "output_type": "stream",
     "text": [
      "Dumping final image to disk\n",
      "Performing prediction on 20 number of slices.\n"
     ]
    },
    {
     "name": "stderr",
     "output_type": "stream",
     "text": [
      "Player Detection for pano - 0  to 100: 58it [05:19,  5.41s/it]"
     ]
    },
    {
     "name": "stdout",
     "output_type": "stream",
     "text": [
      "Dumping final image to disk\n",
      "Performing prediction on 20 number of slices.\n"
     ]
    },
    {
     "name": "stderr",
     "output_type": "stream",
     "text": [
      "Player Detection for pano - 0  to 100: 59it [05:24,  5.41s/it]"
     ]
    },
    {
     "name": "stdout",
     "output_type": "stream",
     "text": [
      "Dumping final image to disk\n",
      "Performing prediction on 20 number of slices.\n"
     ]
    },
    {
     "name": "stderr",
     "output_type": "stream",
     "text": [
      "Player Detection for pano - 0  to 100: 60it [05:30,  5.41s/it]"
     ]
    },
    {
     "name": "stdout",
     "output_type": "stream",
     "text": [
      "Dumping final image to disk\n",
      "Performing prediction on 20 number of slices.\n"
     ]
    },
    {
     "name": "stderr",
     "output_type": "stream",
     "text": [
      "Player Detection for pano - 0  to 100: 61it [05:35,  5.40s/it]"
     ]
    },
    {
     "name": "stdout",
     "output_type": "stream",
     "text": [
      "Dumping final image to disk\n",
      "Performing prediction on 20 number of slices.\n"
     ]
    },
    {
     "name": "stderr",
     "output_type": "stream",
     "text": [
      "Player Detection for pano - 0  to 100: 62it [05:41,  5.41s/it]"
     ]
    },
    {
     "name": "stdout",
     "output_type": "stream",
     "text": [
      "Dumping final image to disk\n",
      "Performing prediction on 20 number of slices.\n"
     ]
    },
    {
     "name": "stderr",
     "output_type": "stream",
     "text": [
      "Player Detection for pano - 0  to 100: 63it [05:46,  5.40s/it]"
     ]
    },
    {
     "name": "stdout",
     "output_type": "stream",
     "text": [
      "Dumping final image to disk\n",
      "Performing prediction on 20 number of slices.\n"
     ]
    },
    {
     "name": "stderr",
     "output_type": "stream",
     "text": [
      "Player Detection for pano - 0  to 100: 64it [05:52,  5.42s/it]"
     ]
    },
    {
     "name": "stdout",
     "output_type": "stream",
     "text": [
      "Dumping final image to disk\n",
      "Performing prediction on 20 number of slices.\n"
     ]
    },
    {
     "name": "stderr",
     "output_type": "stream",
     "text": [
      "Player Detection for pano - 0  to 100: 65it [05:57,  5.39s/it]"
     ]
    },
    {
     "name": "stdout",
     "output_type": "stream",
     "text": [
      "Dumping final image to disk\n",
      "Performing prediction on 20 number of slices.\n"
     ]
    },
    {
     "name": "stderr",
     "output_type": "stream",
     "text": [
      "Player Detection for pano - 0  to 100: 66it [06:02,  5.37s/it]"
     ]
    },
    {
     "name": "stdout",
     "output_type": "stream",
     "text": [
      "Dumping final image to disk\n",
      "Performing prediction on 20 number of slices.\n"
     ]
    },
    {
     "name": "stderr",
     "output_type": "stream",
     "text": [
      "Player Detection for pano - 0  to 100: 67it [06:08,  5.36s/it]"
     ]
    },
    {
     "name": "stdout",
     "output_type": "stream",
     "text": [
      "Dumping final image to disk\n",
      "Performing prediction on 20 number of slices.\n"
     ]
    },
    {
     "name": "stderr",
     "output_type": "stream",
     "text": [
      "Player Detection for pano - 0  to 100: 68it [06:13,  5.36s/it]"
     ]
    },
    {
     "name": "stdout",
     "output_type": "stream",
     "text": [
      "Dumping final image to disk\n",
      "Performing prediction on 20 number of slices.\n"
     ]
    },
    {
     "name": "stderr",
     "output_type": "stream",
     "text": [
      "Player Detection for pano - 0  to 100: 69it [06:18,  5.36s/it]"
     ]
    },
    {
     "name": "stdout",
     "output_type": "stream",
     "text": [
      "Dumping final image to disk\n",
      "Performing prediction on 20 number of slices.\n"
     ]
    },
    {
     "name": "stderr",
     "output_type": "stream",
     "text": [
      "Player Detection for pano - 0  to 100: 70it [06:24,  5.35s/it]"
     ]
    },
    {
     "name": "stdout",
     "output_type": "stream",
     "text": [
      "Dumping final image to disk\n",
      "Performing prediction on 20 number of slices.\n"
     ]
    },
    {
     "name": "stderr",
     "output_type": "stream",
     "text": [
      "Player Detection for pano - 0  to 100: 71it [06:29,  5.36s/it]"
     ]
    },
    {
     "name": "stdout",
     "output_type": "stream",
     "text": [
      "Dumping final image to disk\n",
      "Performing prediction on 20 number of slices.\n"
     ]
    },
    {
     "name": "stderr",
     "output_type": "stream",
     "text": [
      "Player Detection for pano - 0  to 100: 72it [06:34,  5.36s/it]"
     ]
    },
    {
     "name": "stdout",
     "output_type": "stream",
     "text": [
      "Dumping final image to disk\n",
      "Performing prediction on 20 number of slices.\n"
     ]
    },
    {
     "name": "stderr",
     "output_type": "stream",
     "text": [
      "Player Detection for pano - 0  to 100: 73it [06:40,  5.35s/it]"
     ]
    },
    {
     "name": "stdout",
     "output_type": "stream",
     "text": [
      "Dumping final image to disk\n",
      "Performing prediction on 20 number of slices.\n"
     ]
    },
    {
     "name": "stderr",
     "output_type": "stream",
     "text": [
      "Player Detection for pano - 0  to 100: 74it [06:45,  5.35s/it]"
     ]
    },
    {
     "name": "stdout",
     "output_type": "stream",
     "text": [
      "Dumping final image to disk\n",
      "Performing prediction on 20 number of slices.\n"
     ]
    },
    {
     "name": "stderr",
     "output_type": "stream",
     "text": [
      "Player Detection for pano - 0  to 100: 75it [06:50,  5.35s/it]"
     ]
    },
    {
     "name": "stdout",
     "output_type": "stream",
     "text": [
      "Dumping final image to disk\n",
      "Performing prediction on 20 number of slices.\n"
     ]
    },
    {
     "name": "stderr",
     "output_type": "stream",
     "text": [
      "Player Detection for pano - 0  to 100: 76it [06:56,  5.35s/it]"
     ]
    },
    {
     "name": "stdout",
     "output_type": "stream",
     "text": [
      "Dumping final image to disk\n",
      "Performing prediction on 20 number of slices.\n"
     ]
    },
    {
     "name": "stderr",
     "output_type": "stream",
     "text": [
      "Player Detection for pano - 0  to 100: 77it [07:01,  5.35s/it]"
     ]
    },
    {
     "name": "stdout",
     "output_type": "stream",
     "text": [
      "Dumping final image to disk\n",
      "Performing prediction on 20 number of slices.\n"
     ]
    },
    {
     "name": "stderr",
     "output_type": "stream",
     "text": [
      "Player Detection for pano - 0  to 100: 78it [07:06,  5.35s/it]"
     ]
    },
    {
     "name": "stdout",
     "output_type": "stream",
     "text": [
      "Dumping final image to disk\n",
      "Performing prediction on 20 number of slices.\n"
     ]
    },
    {
     "name": "stderr",
     "output_type": "stream",
     "text": [
      "Player Detection for pano - 0  to 100: 79it [07:12,  5.35s/it]"
     ]
    },
    {
     "name": "stdout",
     "output_type": "stream",
     "text": [
      "Dumping final image to disk\n",
      "Performing prediction on 20 number of slices.\n"
     ]
    },
    {
     "name": "stderr",
     "output_type": "stream",
     "text": [
      "Player Detection for pano - 0  to 100: 80it [07:17,  5.35s/it]"
     ]
    },
    {
     "name": "stdout",
     "output_type": "stream",
     "text": [
      "Dumping final image to disk\n",
      "Performing prediction on 20 number of slices.\n"
     ]
    },
    {
     "name": "stderr",
     "output_type": "stream",
     "text": [
      "Player Detection for pano - 0  to 100: 81it [07:22,  5.35s/it]"
     ]
    },
    {
     "name": "stdout",
     "output_type": "stream",
     "text": [
      "Dumping final image to disk\n",
      "Performing prediction on 20 number of slices.\n"
     ]
    },
    {
     "name": "stderr",
     "output_type": "stream",
     "text": [
      "Player Detection for pano - 0  to 100: 82it [07:28,  5.35s/it]"
     ]
    },
    {
     "name": "stdout",
     "output_type": "stream",
     "text": [
      "Dumping final image to disk\n",
      "Performing prediction on 20 number of slices.\n"
     ]
    },
    {
     "name": "stderr",
     "output_type": "stream",
     "text": [
      "Player Detection for pano - 0  to 100: 83it [07:33,  5.35s/it]"
     ]
    },
    {
     "name": "stdout",
     "output_type": "stream",
     "text": [
      "Dumping final image to disk\n",
      "Performing prediction on 20 number of slices.\n"
     ]
    },
    {
     "name": "stderr",
     "output_type": "stream",
     "text": [
      "Player Detection for pano - 0  to 100: 84it [07:39,  5.35s/it]"
     ]
    },
    {
     "name": "stdout",
     "output_type": "stream",
     "text": [
      "Dumping final image to disk\n",
      "Performing prediction on 20 number of slices.\n"
     ]
    },
    {
     "name": "stderr",
     "output_type": "stream",
     "text": [
      "Player Detection for pano - 0  to 100: 85it [07:44,  5.35s/it]"
     ]
    },
    {
     "name": "stdout",
     "output_type": "stream",
     "text": [
      "Dumping final image to disk\n",
      "Performing prediction on 20 number of slices.\n"
     ]
    },
    {
     "name": "stderr",
     "output_type": "stream",
     "text": [
      "Player Detection for pano - 0  to 100: 86it [07:49,  5.35s/it]"
     ]
    },
    {
     "name": "stdout",
     "output_type": "stream",
     "text": [
      "Dumping final image to disk\n",
      "Performing prediction on 20 number of slices.\n"
     ]
    },
    {
     "name": "stderr",
     "output_type": "stream",
     "text": [
      "Player Detection for pano - 0  to 100: 87it [07:55,  5.36s/it]"
     ]
    },
    {
     "name": "stdout",
     "output_type": "stream",
     "text": [
      "Dumping final image to disk\n",
      "Performing prediction on 20 number of slices.\n"
     ]
    },
    {
     "name": "stderr",
     "output_type": "stream",
     "text": [
      "Player Detection for pano - 0  to 100: 88it [08:00,  5.35s/it]"
     ]
    },
    {
     "name": "stdout",
     "output_type": "stream",
     "text": [
      "Dumping final image to disk\n",
      "Performing prediction on 20 number of slices.\n"
     ]
    },
    {
     "name": "stderr",
     "output_type": "stream",
     "text": [
      "Player Detection for pano - 0  to 100: 89it [08:05,  5.35s/it]"
     ]
    },
    {
     "name": "stdout",
     "output_type": "stream",
     "text": [
      "Dumping final image to disk\n",
      "Performing prediction on 20 number of slices.\n"
     ]
    },
    {
     "name": "stderr",
     "output_type": "stream",
     "text": [
      "Player Detection for pano - 0  to 100: 90it [08:11,  5.35s/it]"
     ]
    },
    {
     "name": "stdout",
     "output_type": "stream",
     "text": [
      "Dumping final image to disk\n",
      "Performing prediction on 20 number of slices.\n"
     ]
    },
    {
     "name": "stderr",
     "output_type": "stream",
     "text": [
      "Player Detection for pano - 0  to 100: 91it [08:16,  5.34s/it]"
     ]
    },
    {
     "name": "stdout",
     "output_type": "stream",
     "text": [
      "Dumping final image to disk\n",
      "Performing prediction on 20 number of slices.\n"
     ]
    },
    {
     "name": "stderr",
     "output_type": "stream",
     "text": [
      "Player Detection for pano - 0  to 100: 92it [08:21,  5.34s/it]"
     ]
    },
    {
     "name": "stdout",
     "output_type": "stream",
     "text": [
      "Dumping final image to disk\n",
      "Performing prediction on 20 number of slices.\n"
     ]
    },
    {
     "name": "stderr",
     "output_type": "stream",
     "text": [
      "Player Detection for pano - 0  to 100: 93it [08:27,  5.36s/it]"
     ]
    },
    {
     "name": "stdout",
     "output_type": "stream",
     "text": [
      "Dumping final image to disk\n",
      "Performing prediction on 20 number of slices.\n"
     ]
    },
    {
     "name": "stderr",
     "output_type": "stream",
     "text": [
      "Player Detection for pano - 0  to 100: 94it [08:32,  5.30s/it]"
     ]
    },
    {
     "name": "stdout",
     "output_type": "stream",
     "text": [
      "Dumping final image to disk\n",
      "Performing prediction on 20 number of slices.\n"
     ]
    },
    {
     "name": "stderr",
     "output_type": "stream",
     "text": [
      "Player Detection for pano - 0  to 100: 95it [08:37,  5.24s/it]"
     ]
    },
    {
     "name": "stdout",
     "output_type": "stream",
     "text": [
      "Dumping final image to disk\n",
      "Performing prediction on 20 number of slices.\n"
     ]
    },
    {
     "name": "stderr",
     "output_type": "stream",
     "text": [
      "Player Detection for pano - 0  to 100: 96it [08:42,  5.21s/it]"
     ]
    },
    {
     "name": "stdout",
     "output_type": "stream",
     "text": [
      "Dumping final image to disk\n",
      "Performing prediction on 20 number of slices.\n"
     ]
    },
    {
     "name": "stderr",
     "output_type": "stream",
     "text": [
      "Player Detection for pano - 0  to 100: 97it [08:47,  5.18s/it]"
     ]
    },
    {
     "name": "stdout",
     "output_type": "stream",
     "text": [
      "Dumping final image to disk\n",
      "Performing prediction on 20 number of slices.\n"
     ]
    },
    {
     "name": "stderr",
     "output_type": "stream",
     "text": [
      "Player Detection for pano - 0  to 100: 98it [08:52,  5.16s/it]"
     ]
    },
    {
     "name": "stdout",
     "output_type": "stream",
     "text": [
      "Dumping final image to disk\n",
      "Performing prediction on 20 number of slices.\n"
     ]
    },
    {
     "name": "stderr",
     "output_type": "stream",
     "text": [
      "Player Detection for pano - 0  to 100: 99it [08:57,  5.15s/it]"
     ]
    },
    {
     "name": "stdout",
     "output_type": "stream",
     "text": [
      "Dumping final image to disk\n",
      "Performing prediction on 20 number of slices.\n"
     ]
    },
    {
     "name": "stderr",
     "output_type": "stream",
     "text": [
      "Player Detection for pano - 0  to 100: 100it [09:03,  5.43s/it]\n",
      "\u001b[32m2024-03-13 10:40:28.763\u001b[0m | \u001b[32m\u001b[1mSUCCESS \u001b[0m | \u001b[36mscripts.inference_sahi\u001b[0m:\u001b[36mdetect_bboxes_from_video\u001b[0m:\u001b[36m241\u001b[0m - \u001b[32m\u001b[1mSaved bbox detections to /mnt/ai-storage/jira/imtec356/ma25fad386_5100_5160/sahi_detection_results/pano.bbox\u001b[0m\n",
      "\u001b[32m2024-03-13 10:40:28.771\u001b[0m | \u001b[32m\u001b[1mSUCCESS \u001b[0m | \u001b[36mscripts.inference_sahi\u001b[0m:\u001b[36mdetect_bboxes_from_video\u001b[0m:\u001b[36m244\u001b[0m - \u001b[32m\u001b[1mSaved bbox video to /mnt/ai-storage/jira/imtec356/ma25fad386_5100_5160/sahi_detection_results/pano.bbox.mp4\u001b[0m\n"
     ]
    },
    {
     "name": "stdout",
     "output_type": "stream",
     "text": [
      "Dumping final image to disk\n",
      "Inference with SAHI is done.\n"
     ]
    }
   ],
   "source": [
    "detect_bboxes_from_video(video_path = video_path,\n",
    "                         model_path = model_path,\n",
    "                         model_type = \"yolov8\",\n",
    "                         start_time = 0,\n",
    "                         end_time = 100,\n",
    "                         court_mask_path = court_mask_path,\n",
    "                         confidence_threshold= 0.3,\n",
    "                         verbosity = 1,\n",
    "                         debug=True)"
   ]
  },
  {
   "cell_type": "code",
   "execution_count": null,
   "id": "013d3f61",
   "metadata": {},
   "outputs": [],
   "source": [
    "out_path"
   ]
  }
 ],
 "metadata": {
  "kernelspec": {
   "display_name": "Python 3 (ipykernel)",
   "language": "python",
   "name": "python3"
  },
  "language_info": {
   "codemirror_mode": {
    "name": "ipython",
    "version": 3
   },
   "file_extension": ".py",
   "mimetype": "text/x-python",
   "name": "python",
   "nbconvert_exporter": "python",
   "pygments_lexer": "ipython3",
   "version": "3.8.18"
  }
 },
 "nbformat": 4,
 "nbformat_minor": 5
}
