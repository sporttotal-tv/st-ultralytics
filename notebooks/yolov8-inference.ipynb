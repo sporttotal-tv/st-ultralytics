{
 "cells": [
  {
   "cell_type": "code",
   "execution_count": 1,
   "id": "5a5ab498",
   "metadata": {},
   "outputs": [
    {
     "data": {
      "text/plain": [
       "'/mnt/ai-storage/personal/pradip/st-ultralytics/notebooks'"
      ]
     },
     "execution_count": 1,
     "metadata": {},
     "output_type": "execute_result"
    }
   ],
   "source": [
    "import os\n",
    "os.getcwd()"
   ]
  },
  {
   "cell_type": "code",
   "execution_count": 2,
   "id": "359ced8c",
   "metadata": {},
   "outputs": [
    {
     "data": {
      "text/plain": [
       "'/mnt/ai-storage/personal/pradip/st-ultralytics'"
      ]
     },
     "execution_count": 2,
     "metadata": {},
     "output_type": "execute_result"
    }
   ],
   "source": [
    "os.chdir(\"..\")\n",
    "os.getcwd()"
   ]
  },
  {
   "cell_type": "markdown",
   "id": "76bee0cf",
   "metadata": {},
   "source": [
    "# Experiments"
   ]
  },
  {
   "cell_type": "code",
   "execution_count": null,
   "id": "c53fd034",
   "metadata": {},
   "outputs": [],
   "source": []
  },
  {
   "cell_type": "code",
   "execution_count": null,
   "id": "24a30116",
   "metadata": {},
   "outputs": [],
   "source": []
  },
  {
   "cell_type": "code",
   "execution_count": null,
   "id": "2c7784ca",
   "metadata": {},
   "outputs": [],
   "source": []
  },
  {
   "cell_type": "markdown",
   "id": "af3cbc22",
   "metadata": {},
   "source": [
    "# Test Pipeline"
   ]
  },
  {
   "cell_type": "code",
   "execution_count": 3,
   "id": "50dbeb03",
   "metadata": {},
   "outputs": [
    {
     "data": {
      "text/plain": [
       "'/mnt/ai-storage/personal/pradip/st-ultralytics'"
      ]
     },
     "execution_count": 3,
     "metadata": {},
     "output_type": "execute_result"
    }
   ],
   "source": [
    "import os\n",
    "os.getcwd()"
   ]
  },
  {
   "cell_type": "code",
   "execution_count": 4,
   "id": "dbe95e1c",
   "metadata": {},
   "outputs": [],
   "source": [
    "from scripts.inference_yolov8 import detect_bboxes_from_video"
   ]
  },
  {
   "cell_type": "code",
   "execution_count": 5,
   "id": "c072726e",
   "metadata": {},
   "outputs": [],
   "source": [
    "model_path = 'scripts/models/20231231_yolov8x-albumentations.pt'"
   ]
  },
  {
   "cell_type": "code",
   "execution_count": 6,
   "id": "3b7f5d85",
   "metadata": {},
   "outputs": [],
   "source": [
    "video_path = '/mnt/ai-storage/jira/imtec356/ma25fad386_5100_5160/pano.mp4'"
   ]
  },
  {
   "cell_type": "code",
   "execution_count": 7,
   "id": "65f41a4f",
   "metadata": {},
   "outputs": [],
   "source": [
    "court_mask_path = '/mnt/ai-storage/jira/imtec356/ma25fad386_5100_5160/pano_mask.png'"
   ]
  },
  {
   "cell_type": "code",
   "execution_count": 8,
   "id": "7d9c703a",
   "metadata": {},
   "outputs": [
    {
     "name": "stderr",
     "output_type": "stream",
     "text": [
      "\u001b[32m2024-03-13 09:44:14.297\u001b[0m | \u001b[1mINFO    \u001b[0m | \u001b[36mscripts.inference_yolov8\u001b[0m:\u001b[36mdetect_bboxes_from_video\u001b[0m:\u001b[36m105\u001b[0m - \u001b[1mout_dir is: /mnt/ai-storage/jira/imtec356/ma25fad386_5100_5160/detection_results\u001b[0m\n",
      "\u001b[32m2024-03-13 09:44:14.299\u001b[0m | \u001b[1mINFO    \u001b[0m | \u001b[36mscripts.inference_yolov8\u001b[0m:\u001b[36mdetect_bboxes_from_video\u001b[0m:\u001b[36m111\u001b[0m - \u001b[1mout_path is: /mnt/ai-storage/jira/imtec356/ma25fad386_5100_5160/detection_results/pano.bbox\u001b[0m\n",
      "\u001b[32m2024-03-13 09:44:14.300\u001b[0m | \u001b[1mINFO    \u001b[0m | \u001b[36mscripts.inference_yolov8\u001b[0m:\u001b[36mdetect_bboxes_from_video\u001b[0m:\u001b[36m117\u001b[0m - \u001b[1mUse court mask: /mnt/ai-storage/jira/imtec356/ma25fad386_5100_5160/pano_mask.png\u001b[0m\n",
      "Player Detection for pano - 0  to 10: 0it [00:00, ?it/s]"
     ]
    },
    {
     "name": "stdout",
     "output_type": "stream",
     "text": [
      "\n",
      "0: 800x3840 26 players, 79.6ms\n",
      "Speed: 14.8ms preprocess, 79.6ms inference, 433.1ms postprocess per image at shape (1, 3, 800, 3840)\n"
     ]
    },
    {
     "name": "stderr",
     "output_type": "stream",
     "text": [
      "/mnt/ai-storage/pradip/miniconda3/envs/yolov5/lib/python3.8/site-packages/st_commons/data/data_loader.py:35: UserWarning: Use image_width instead, image_w deprecated since v 0.0.5\n",
      "  warnings.warn(\"Use image_width instead, image_w deprecated since v 0.0.5\")\n",
      "/mnt/ai-storage/pradip/miniconda3/envs/yolov5/lib/python3.8/site-packages/st_commons/data/data_loader.py:40: UserWarning: Use image_height instead, image_h deprecated since v 0.0.5\n",
      "  warnings.warn(\"Use image_height instead, image_h deprecated since v 0.0.5\")\n",
      "\r",
      "Player Detection for pano - 0  to 10: 1it [00:02,  2.42s/it]"
     ]
    },
    {
     "name": "stdout",
     "output_type": "stream",
     "text": [
      "Visualisation\n",
      "Dumping final image to disk\n",
      "\n",
      "0: 800x3840 25 players, 40.5ms\n",
      "Speed: 7.3ms preprocess, 40.5ms inference, 1.1ms postprocess per image at shape (1, 3, 800, 3840)\n"
     ]
    },
    {
     "name": "stderr",
     "output_type": "stream",
     "text": [
      "\r",
      "Player Detection for pano - 0  to 10: 2it [00:02,  1.06s/it]"
     ]
    },
    {
     "name": "stdout",
     "output_type": "stream",
     "text": [
      "Visualisation\n",
      "Dumping final image to disk\n",
      "\n",
      "0: 800x3840 25 players, 40.7ms\n",
      "Speed: 5.5ms preprocess, 40.7ms inference, 1.1ms postprocess per image at shape (1, 3, 800, 3840)\n"
     ]
    },
    {
     "name": "stderr",
     "output_type": "stream",
     "text": [
      "\r",
      "Player Detection for pano - 0  to 10: 3it [00:02,  1.60it/s]"
     ]
    },
    {
     "name": "stdout",
     "output_type": "stream",
     "text": [
      "Visualisation\n",
      "Dumping final image to disk\n",
      "\n",
      "0: 800x3840 26 players, 40.8ms\n",
      "Speed: 7.9ms preprocess, 40.8ms inference, 1.2ms postprocess per image at shape (1, 3, 800, 3840)\n",
      "Visualisation\n",
      "Dumping final image to disk\n"
     ]
    },
    {
     "name": "stderr",
     "output_type": "stream",
     "text": [
      "\r",
      "Player Detection for pano - 0  to 10: 4it [00:02,  2.39it/s]"
     ]
    },
    {
     "name": "stdout",
     "output_type": "stream",
     "text": [
      "\n",
      "0: 800x3840 26 players, 41.0ms\n",
      "Speed: 8.1ms preprocess, 41.0ms inference, 1.2ms postprocess per image at shape (1, 3, 800, 3840)\n"
     ]
    },
    {
     "name": "stderr",
     "output_type": "stream",
     "text": [
      "\r",
      "Player Detection for pano - 0  to 10: 5it [00:02,  3.25it/s]"
     ]
    },
    {
     "name": "stdout",
     "output_type": "stream",
     "text": [
      "Visualisation\n",
      "Dumping final image to disk\n",
      "\n",
      "0: 800x3840 26 players, 41.0ms\n",
      "Speed: 4.9ms preprocess, 41.0ms inference, 1.1ms postprocess per image at shape (1, 3, 800, 3840)\n",
      "Visualisation\n",
      "Dumping final image to disk\n"
     ]
    },
    {
     "name": "stderr",
     "output_type": "stream",
     "text": [
      "\r",
      "Player Detection for pano - 0  to 10: 6it [00:02,  4.18it/s]"
     ]
    },
    {
     "name": "stdout",
     "output_type": "stream",
     "text": [
      "\n",
      "0: 800x3840 26 players, 40.8ms\n",
      "Speed: 5.7ms preprocess, 40.8ms inference, 1.1ms postprocess per image at shape (1, 3, 800, 3840)\n"
     ]
    },
    {
     "name": "stderr",
     "output_type": "stream",
     "text": [
      "\r",
      "Player Detection for pano - 0  to 10: 7it [00:03,  5.15it/s]"
     ]
    },
    {
     "name": "stdout",
     "output_type": "stream",
     "text": [
      "Visualisation\n",
      "Dumping final image to disk\n",
      "\n",
      "0: 800x3840 27 players, 41.0ms\n",
      "Speed: 7.6ms preprocess, 41.0ms inference, 1.2ms postprocess per image at shape (1, 3, 800, 3840)\n"
     ]
    },
    {
     "name": "stderr",
     "output_type": "stream",
     "text": [
      "\r",
      "Player Detection for pano - 0  to 10: 8it [00:03,  6.04it/s]"
     ]
    },
    {
     "name": "stdout",
     "output_type": "stream",
     "text": [
      "Visualisation\n",
      "Dumping final image to disk\n",
      "\n",
      "0: 800x3840 27 players, 40.8ms\n",
      "Speed: 4.7ms preprocess, 40.8ms inference, 1.2ms postprocess per image at shape (1, 3, 800, 3840)\n"
     ]
    },
    {
     "name": "stderr",
     "output_type": "stream",
     "text": [
      "\r",
      "Player Detection for pano - 0  to 10: 9it [00:03,  6.84it/s]"
     ]
    },
    {
     "name": "stdout",
     "output_type": "stream",
     "text": [
      "Visualisation\n",
      "Dumping final image to disk\n",
      "\n",
      "0: 800x3840 26 players, 40.8ms\n",
      "Speed: 8.2ms preprocess, 40.8ms inference, 1.3ms postprocess per image at shape (1, 3, 800, 3840)\n",
      "Visualisation\n",
      "Dumping final image to disk\n"
     ]
    },
    {
     "name": "stderr",
     "output_type": "stream",
     "text": [
      "Player Detection for pano - 0  to 10: 10it [00:03,  2.97it/s]\n",
      "\u001b[32m2024-03-13 09:44:17.943\u001b[0m | \u001b[32m\u001b[1mSUCCESS \u001b[0m | \u001b[36mscripts.inference_yolov8\u001b[0m:\u001b[36mdetect_bboxes_from_video\u001b[0m:\u001b[36m195\u001b[0m - \u001b[32m\u001b[1mSaved bbox detections to /mnt/ai-storage/jira/imtec356/ma25fad386_5100_5160/detection_results/pano.bbox\u001b[0m\n",
      "\u001b[32m2024-03-13 09:44:17.948\u001b[0m | \u001b[32m\u001b[1mSUCCESS \u001b[0m | \u001b[36mscripts.inference_yolov8\u001b[0m:\u001b[36mdetect_bboxes_from_video\u001b[0m:\u001b[36m198\u001b[0m - \u001b[32m\u001b[1mSaved bbox video to /mnt/ai-storage/jira/imtec356/ma25fad386_5100_5160/detection_results/pano.bbox.mp4\u001b[0m\n"
     ]
    }
   ],
   "source": [
    "detect_bboxes_from_video(video_path = video_path,\n",
    "                         model_path = model_path,\n",
    "                         model_type = \"yolov8\",\n",
    "                         start_time = 0,\n",
    "                         end_time = 10,\n",
    "                         court_mask_path = court_mask_path,\n",
    "                         confidence_threshold= 0.5,\n",
    "                         verbosity = 1,\n",
    "                         debug=True)"
   ]
  },
  {
   "cell_type": "code",
   "execution_count": null,
   "id": "aa151b3a",
   "metadata": {},
   "outputs": [],
   "source": []
  }
 ],
 "metadata": {
  "kernelspec": {
   "display_name": "Python 3 (ipykernel)",
   "language": "python",
   "name": "python3"
  },
  "language_info": {
   "codemirror_mode": {
    "name": "ipython",
    "version": 3
   },
   "file_extension": ".py",
   "mimetype": "text/x-python",
   "name": "python",
   "nbconvert_exporter": "python",
   "pygments_lexer": "ipython3",
   "version": "3.8.18"
  }
 },
 "nbformat": 4,
 "nbformat_minor": 5
}
